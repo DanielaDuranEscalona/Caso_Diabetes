{
 "cells": [
  {
   "cell_type": "markdown",
   "id": "2237c1a6",
   "metadata": {},
   "source": [
    "# Ejercicio analisis de Diabetes\n",
    "\n",
    "Realizar un analisis exploratorio de las variables y aplicar algun modelo que mejor se ajuste al caso.\n",
    "\n",
    "En este caso se nos entrego un Dataframe que considera las siguientes variables:  \n",
    "  \n",
    "    Unnamed: 0            -Columna de Id  \n",
    "    gender\t              -Indica el genero de la persona  \n",
    "    hypertension\t      -Indica si la persona tiene Hipertension  \n",
    "    heart_disease\t      -Indica si la persona tiene Enfermedades Cardiacas  \n",
    "    bmi\t                  -Indica el indice de masa corporal (IMC en español)  \n",
    "    diabetes\t          -Indica si la persona tiene diabetes  \n",
    "    Age\t                  -Edad de la persona  \n",
    "    Blood_glucose_level\t  -Nivel de glucosa en sangre  \n",
    "    HBA1c_level\t          -Nivel de Hemoglobina en sangre  \n",
    "    Smoking_History       -La persona es fumadora o no  "
   ]
  },
  {
   "cell_type": "markdown",
   "id": "8eca0075",
   "metadata": {},
   "source": [
    "### Analisis exploratorio de variables y limpieza de variables.\n",
    "En este caso se quiere desarrollar un modelo supervisado donde nuestra variable target es \"diabetes\". Procedemos a realizar un analisis exploratorio de las variables "
   ]
  },
  {
   "cell_type": "code",
   "execution_count": 1,
   "id": "020e7ebd",
   "metadata": {},
   "outputs": [],
   "source": [
    "import pandas as pd\n",
    "import numpy as np\n",
    "import matplotlib.pyplot as plt\n",
    "import seaborn as sns\n",
    "\n",
    "from sklearn.preprocessing import LabelEncoder\n",
    "from sklearn.preprocessing import StandardScaler\n",
    "\n",
    "from imblearn.over_sampling import SMOTE\n",
    "from sklearn.model_selection import train_test_split\n",
    "\n",
    "from sklearn.linear_model import LogisticRegression\n",
    "from sklearn.ensemble import RandomForestClassifier\n",
    "from sklearn.tree import DecisionTreeClassifier\n",
    "\n",
    "from sklearn.model_selection import GridSearchCV\n",
    "\n",
    "from sklearn.metrics import accuracy_score, precision_score, recall_score, confusion_matrix, classification_report"
   ]
  },
  {
   "cell_type": "code",
   "execution_count": 2,
   "id": "6cf57d0b",
   "metadata": {},
   "outputs": [
    {
     "data": {
      "text/html": [
       "<div>\n",
       "<style scoped>\n",
       "    .dataframe tbody tr th:only-of-type {\n",
       "        vertical-align: middle;\n",
       "    }\n",
       "\n",
       "    .dataframe tbody tr th {\n",
       "        vertical-align: top;\n",
       "    }\n",
       "\n",
       "    .dataframe thead th {\n",
       "        text-align: right;\n",
       "    }\n",
       "</style>\n",
       "<table border=\"1\" class=\"dataframe\">\n",
       "  <thead>\n",
       "    <tr style=\"text-align: right;\">\n",
       "      <th></th>\n",
       "      <th>Unnamed: 0</th>\n",
       "      <th>gender</th>\n",
       "      <th>hypertension</th>\n",
       "      <th>heart_disease</th>\n",
       "      <th>bmi</th>\n",
       "      <th>diabetes</th>\n",
       "      <th>Age</th>\n",
       "      <th>Blood_glucose_level</th>\n",
       "      <th>HBA1c_level</th>\n",
       "      <th>Smoking_History</th>\n",
       "    </tr>\n",
       "  </thead>\n",
       "  <tbody>\n",
       "    <tr>\n",
       "      <th>0</th>\n",
       "      <td>0</td>\n",
       "      <td>Female</td>\n",
       "      <td>0</td>\n",
       "      <td>1</td>\n",
       "      <td>25.19</td>\n",
       "      <td>0</td>\n",
       "      <td>80.0</td>\n",
       "      <td>140.0</td>\n",
       "      <td>NaN</td>\n",
       "      <td>never</td>\n",
       "    </tr>\n",
       "    <tr>\n",
       "      <th>1</th>\n",
       "      <td>1</td>\n",
       "      <td>Female</td>\n",
       "      <td>0</td>\n",
       "      <td>0</td>\n",
       "      <td>27.32</td>\n",
       "      <td>0</td>\n",
       "      <td>54.0</td>\n",
       "      <td>80.0</td>\n",
       "      <td>6.6</td>\n",
       "      <td>NaN</td>\n",
       "    </tr>\n",
       "    <tr>\n",
       "      <th>2</th>\n",
       "      <td>2</td>\n",
       "      <td>Male</td>\n",
       "      <td>0</td>\n",
       "      <td>0</td>\n",
       "      <td>27.32</td>\n",
       "      <td>0</td>\n",
       "      <td>28.0</td>\n",
       "      <td>158.0</td>\n",
       "      <td>NaN</td>\n",
       "      <td>never</td>\n",
       "    </tr>\n",
       "    <tr>\n",
       "      <th>3</th>\n",
       "      <td>3</td>\n",
       "      <td>Female</td>\n",
       "      <td>0</td>\n",
       "      <td>0</td>\n",
       "      <td>23.45</td>\n",
       "      <td>0</td>\n",
       "      <td>36.0</td>\n",
       "      <td>155.0</td>\n",
       "      <td>5.0</td>\n",
       "      <td>current</td>\n",
       "    </tr>\n",
       "    <tr>\n",
       "      <th>4</th>\n",
       "      <td>4</td>\n",
       "      <td>Male</td>\n",
       "      <td>1</td>\n",
       "      <td>1</td>\n",
       "      <td>20.14</td>\n",
       "      <td>0</td>\n",
       "      <td>76.0</td>\n",
       "      <td>155.0</td>\n",
       "      <td>4.8</td>\n",
       "      <td>current</td>\n",
       "    </tr>\n",
       "    <tr>\n",
       "      <th>...</th>\n",
       "      <td>...</td>\n",
       "      <td>...</td>\n",
       "      <td>...</td>\n",
       "      <td>...</td>\n",
       "      <td>...</td>\n",
       "      <td>...</td>\n",
       "      <td>...</td>\n",
       "      <td>...</td>\n",
       "      <td>...</td>\n",
       "      <td>...</td>\n",
       "    </tr>\n",
       "    <tr>\n",
       "      <th>99995</th>\n",
       "      <td>99995</td>\n",
       "      <td>Female</td>\n",
       "      <td>0</td>\n",
       "      <td>0</td>\n",
       "      <td>27.32</td>\n",
       "      <td>0</td>\n",
       "      <td>80.0</td>\n",
       "      <td>90.0</td>\n",
       "      <td>6.2</td>\n",
       "      <td>NaN</td>\n",
       "    </tr>\n",
       "    <tr>\n",
       "      <th>99996</th>\n",
       "      <td>99996</td>\n",
       "      <td>Female</td>\n",
       "      <td>0</td>\n",
       "      <td>0</td>\n",
       "      <td>17.37</td>\n",
       "      <td>0</td>\n",
       "      <td>2.0</td>\n",
       "      <td>100.0</td>\n",
       "      <td>6.5</td>\n",
       "      <td>NaN</td>\n",
       "    </tr>\n",
       "    <tr>\n",
       "      <th>99997</th>\n",
       "      <td>99997</td>\n",
       "      <td>Male</td>\n",
       "      <td>0</td>\n",
       "      <td>0</td>\n",
       "      <td>27.83</td>\n",
       "      <td>0</td>\n",
       "      <td>66.0</td>\n",
       "      <td>155.0</td>\n",
       "      <td>5.7</td>\n",
       "      <td>former</td>\n",
       "    </tr>\n",
       "    <tr>\n",
       "      <th>99998</th>\n",
       "      <td>99998</td>\n",
       "      <td>Female</td>\n",
       "      <td>0</td>\n",
       "      <td>0</td>\n",
       "      <td>35.42</td>\n",
       "      <td>0</td>\n",
       "      <td>24.0</td>\n",
       "      <td>100.0</td>\n",
       "      <td>NaN</td>\n",
       "      <td>never</td>\n",
       "    </tr>\n",
       "    <tr>\n",
       "      <th>99999</th>\n",
       "      <td>99999</td>\n",
       "      <td>Female</td>\n",
       "      <td>0</td>\n",
       "      <td>0</td>\n",
       "      <td>22.43</td>\n",
       "      <td>0</td>\n",
       "      <td>57.0</td>\n",
       "      <td>90.0</td>\n",
       "      <td>6.6</td>\n",
       "      <td>current</td>\n",
       "    </tr>\n",
       "  </tbody>\n",
       "</table>\n",
       "<p>100000 rows × 10 columns</p>\n",
       "</div>"
      ],
      "text/plain": [
       "       Unnamed: 0  gender  hypertension  heart_disease    bmi  diabetes   Age  \\\n",
       "0               0  Female             0              1  25.19         0  80.0   \n",
       "1               1  Female             0              0  27.32         0  54.0   \n",
       "2               2    Male             0              0  27.32         0  28.0   \n",
       "3               3  Female             0              0  23.45         0  36.0   \n",
       "4               4    Male             1              1  20.14         0  76.0   \n",
       "...           ...     ...           ...            ...    ...       ...   ...   \n",
       "99995       99995  Female             0              0  27.32         0  80.0   \n",
       "99996       99996  Female             0              0  17.37         0   2.0   \n",
       "99997       99997    Male             0              0  27.83         0  66.0   \n",
       "99998       99998  Female             0              0  35.42         0  24.0   \n",
       "99999       99999  Female             0              0  22.43         0  57.0   \n",
       "\n",
       "       Blood_glucose_level  HBA1c_level Smoking_History  \n",
       "0                    140.0          NaN           never  \n",
       "1                     80.0          6.6             NaN  \n",
       "2                    158.0          NaN           never  \n",
       "3                    155.0          5.0         current  \n",
       "4                    155.0          4.8         current  \n",
       "...                    ...          ...             ...  \n",
       "99995                 90.0          6.2             NaN  \n",
       "99996                100.0          6.5             NaN  \n",
       "99997                155.0          5.7          former  \n",
       "99998                100.0          NaN           never  \n",
       "99999                 90.0          6.6         current  \n",
       "\n",
       "[100000 rows x 10 columns]"
      ]
     },
     "execution_count": 2,
     "metadata": {},
     "output_type": "execute_result"
    }
   ],
   "source": [
    "path=r'C:\\Users\\danie\\Desktop\\Curso NTTdata\\Area 3\\ejercicios\\docs\\df_diabetes_f.csv'\n",
    "\n",
    "datos=pd.read_csv(path,sep=',')\n",
    "df=datos.copy()\n",
    "\n",
    "df"
   ]
  },
  {
   "cell_type": "code",
   "execution_count": 3,
   "id": "0e2f4ff6",
   "metadata": {},
   "outputs": [
    {
     "data": {
      "text/plain": [
       "Index(['Unnamed: 0', 'gender', 'hypertension', 'heart_disease', 'bmi',\n",
       "       'diabetes', 'Age', 'Blood_glucose_level', 'HBA1c_level',\n",
       "       'Smoking_History'],\n",
       "      dtype='object')"
      ]
     },
     "execution_count": 3,
     "metadata": {},
     "output_type": "execute_result"
    }
   ],
   "source": [
    "datos.columns"
   ]
  },
  {
   "cell_type": "code",
   "execution_count": 4,
   "id": "36b9f451",
   "metadata": {},
   "outputs": [],
   "source": [
    "#Procedo a eliminar la columna id ya que no me entregara información en el modelo.\n",
    "df.drop(columns='Unnamed: 0', inplace=True)"
   ]
  },
  {
   "cell_type": "code",
   "execution_count": 5,
   "id": "f335bbab",
   "metadata": {},
   "outputs": [
    {
     "data": {
      "text/plain": [
       "4586"
      ]
     },
     "execution_count": 5,
     "metadata": {},
     "output_type": "execute_result"
    }
   ],
   "source": [
    "#Verifico la precencia de duplicados\n",
    "df.duplicated().sum()"
   ]
  },
  {
   "cell_type": "code",
   "execution_count": 6,
   "id": "742f691f",
   "metadata": {},
   "outputs": [
    {
     "data": {
      "text/html": [
       "<div>\n",
       "<style scoped>\n",
       "    .dataframe tbody tr th:only-of-type {\n",
       "        vertical-align: middle;\n",
       "    }\n",
       "\n",
       "    .dataframe tbody tr th {\n",
       "        vertical-align: top;\n",
       "    }\n",
       "\n",
       "    .dataframe thead th {\n",
       "        text-align: right;\n",
       "    }\n",
       "</style>\n",
       "<table border=\"1\" class=\"dataframe\">\n",
       "  <thead>\n",
       "    <tr style=\"text-align: right;\">\n",
       "      <th></th>\n",
       "      <th>gender</th>\n",
       "      <th>hypertension</th>\n",
       "      <th>heart_disease</th>\n",
       "      <th>bmi</th>\n",
       "      <th>diabetes</th>\n",
       "      <th>Age</th>\n",
       "      <th>Blood_glucose_level</th>\n",
       "      <th>HBA1c_level</th>\n",
       "      <th>Smoking_History</th>\n",
       "    </tr>\n",
       "  </thead>\n",
       "  <tbody>\n",
       "    <tr>\n",
       "      <th>738</th>\n",
       "      <td>Female</td>\n",
       "      <td>0</td>\n",
       "      <td>0</td>\n",
       "      <td>27.32</td>\n",
       "      <td>0</td>\n",
       "      <td>NaN</td>\n",
       "      <td>145.0</td>\n",
       "      <td>6.1</td>\n",
       "      <td>NaN</td>\n",
       "    </tr>\n",
       "    <tr>\n",
       "      <th>1847</th>\n",
       "      <td>Female</td>\n",
       "      <td>0</td>\n",
       "      <td>0</td>\n",
       "      <td>27.32</td>\n",
       "      <td>0</td>\n",
       "      <td>28.0</td>\n",
       "      <td>NaN</td>\n",
       "      <td>NaN</td>\n",
       "      <td>NaN</td>\n",
       "    </tr>\n",
       "    <tr>\n",
       "      <th>2657</th>\n",
       "      <td>Male</td>\n",
       "      <td>0</td>\n",
       "      <td>0</td>\n",
       "      <td>27.32</td>\n",
       "      <td>0</td>\n",
       "      <td>37.0</td>\n",
       "      <td>NaN</td>\n",
       "      <td>NaN</td>\n",
       "      <td>NaN</td>\n",
       "    </tr>\n",
       "    <tr>\n",
       "      <th>3272</th>\n",
       "      <td>Female</td>\n",
       "      <td>0</td>\n",
       "      <td>0</td>\n",
       "      <td>27.32</td>\n",
       "      <td>0</td>\n",
       "      <td>80.0</td>\n",
       "      <td>80.0</td>\n",
       "      <td>3.5</td>\n",
       "      <td>NaN</td>\n",
       "    </tr>\n",
       "    <tr>\n",
       "      <th>3320</th>\n",
       "      <td>Female</td>\n",
       "      <td>0</td>\n",
       "      <td>0</td>\n",
       "      <td>27.32</td>\n",
       "      <td>0</td>\n",
       "      <td>80.0</td>\n",
       "      <td>NaN</td>\n",
       "      <td>NaN</td>\n",
       "      <td>NaN</td>\n",
       "    </tr>\n",
       "    <tr>\n",
       "      <th>...</th>\n",
       "      <td>...</td>\n",
       "      <td>...</td>\n",
       "      <td>...</td>\n",
       "      <td>...</td>\n",
       "      <td>...</td>\n",
       "      <td>...</td>\n",
       "      <td>...</td>\n",
       "      <td>...</td>\n",
       "      <td>...</td>\n",
       "    </tr>\n",
       "    <tr>\n",
       "      <th>99954</th>\n",
       "      <td>Male</td>\n",
       "      <td>0</td>\n",
       "      <td>0</td>\n",
       "      <td>27.32</td>\n",
       "      <td>0</td>\n",
       "      <td>80.0</td>\n",
       "      <td>80.0</td>\n",
       "      <td>NaN</td>\n",
       "      <td>NaN</td>\n",
       "    </tr>\n",
       "    <tr>\n",
       "      <th>99973</th>\n",
       "      <td>Female</td>\n",
       "      <td>0</td>\n",
       "      <td>0</td>\n",
       "      <td>27.32</td>\n",
       "      <td>0</td>\n",
       "      <td>51.0</td>\n",
       "      <td>140.0</td>\n",
       "      <td>4.0</td>\n",
       "      <td>never</td>\n",
       "    </tr>\n",
       "    <tr>\n",
       "      <th>99985</th>\n",
       "      <td>Male</td>\n",
       "      <td>0</td>\n",
       "      <td>0</td>\n",
       "      <td>27.32</td>\n",
       "      <td>0</td>\n",
       "      <td>25.0</td>\n",
       "      <td>145.0</td>\n",
       "      <td>5.8</td>\n",
       "      <td>NaN</td>\n",
       "    </tr>\n",
       "    <tr>\n",
       "      <th>99989</th>\n",
       "      <td>Female</td>\n",
       "      <td>0</td>\n",
       "      <td>0</td>\n",
       "      <td>27.32</td>\n",
       "      <td>0</td>\n",
       "      <td>26.0</td>\n",
       "      <td>158.0</td>\n",
       "      <td>5.0</td>\n",
       "      <td>NaN</td>\n",
       "    </tr>\n",
       "    <tr>\n",
       "      <th>99995</th>\n",
       "      <td>Female</td>\n",
       "      <td>0</td>\n",
       "      <td>0</td>\n",
       "      <td>27.32</td>\n",
       "      <td>0</td>\n",
       "      <td>80.0</td>\n",
       "      <td>90.0</td>\n",
       "      <td>6.2</td>\n",
       "      <td>NaN</td>\n",
       "    </tr>\n",
       "  </tbody>\n",
       "</table>\n",
       "<p>4586 rows × 9 columns</p>\n",
       "</div>"
      ],
      "text/plain": [
       "       gender  hypertension  heart_disease    bmi  diabetes   Age  \\\n",
       "738    Female             0              0  27.32         0   NaN   \n",
       "1847   Female             0              0  27.32         0  28.0   \n",
       "2657     Male             0              0  27.32         0  37.0   \n",
       "3272   Female             0              0  27.32         0  80.0   \n",
       "3320   Female             0              0  27.32         0  80.0   \n",
       "...       ...           ...            ...    ...       ...   ...   \n",
       "99954    Male             0              0  27.32         0  80.0   \n",
       "99973  Female             0              0  27.32         0  51.0   \n",
       "99985    Male             0              0  27.32         0  25.0   \n",
       "99989  Female             0              0  27.32         0  26.0   \n",
       "99995  Female             0              0  27.32         0  80.0   \n",
       "\n",
       "       Blood_glucose_level  HBA1c_level Smoking_History  \n",
       "738                  145.0          6.1             NaN  \n",
       "1847                   NaN          NaN             NaN  \n",
       "2657                   NaN          NaN             NaN  \n",
       "3272                  80.0          3.5             NaN  \n",
       "3320                   NaN          NaN             NaN  \n",
       "...                    ...          ...             ...  \n",
       "99954                 80.0          NaN             NaN  \n",
       "99973                140.0          4.0           never  \n",
       "99985                145.0          5.8             NaN  \n",
       "99989                158.0          5.0             NaN  \n",
       "99995                 90.0          6.2             NaN  \n",
       "\n",
       "[4586 rows x 9 columns]"
      ]
     },
     "execution_count": 6,
     "metadata": {},
     "output_type": "execute_result"
    }
   ],
   "source": [
    "df.loc[df.duplicated()]"
   ]
  },
  {
   "cell_type": "code",
   "execution_count": 7,
   "id": "746af191",
   "metadata": {},
   "outputs": [
    {
     "data": {
      "text/html": [
       "<div>\n",
       "<style scoped>\n",
       "    .dataframe tbody tr th:only-of-type {\n",
       "        vertical-align: middle;\n",
       "    }\n",
       "\n",
       "    .dataframe tbody tr th {\n",
       "        vertical-align: top;\n",
       "    }\n",
       "\n",
       "    .dataframe thead th {\n",
       "        text-align: right;\n",
       "    }\n",
       "</style>\n",
       "<table border=\"1\" class=\"dataframe\">\n",
       "  <thead>\n",
       "    <tr style=\"text-align: right;\">\n",
       "      <th></th>\n",
       "      <th>gender</th>\n",
       "      <th>hypertension</th>\n",
       "      <th>heart_disease</th>\n",
       "      <th>bmi</th>\n",
       "      <th>diabetes</th>\n",
       "      <th>Age</th>\n",
       "      <th>Blood_glucose_level</th>\n",
       "      <th>HBA1c_level</th>\n",
       "      <th>Smoking_History</th>\n",
       "    </tr>\n",
       "  </thead>\n",
       "  <tbody>\n",
       "    <tr>\n",
       "      <th>0</th>\n",
       "      <td>Female</td>\n",
       "      <td>0</td>\n",
       "      <td>1</td>\n",
       "      <td>25.19</td>\n",
       "      <td>0</td>\n",
       "      <td>80.0</td>\n",
       "      <td>140.0</td>\n",
       "      <td>NaN</td>\n",
       "      <td>never</td>\n",
       "    </tr>\n",
       "    <tr>\n",
       "      <th>1</th>\n",
       "      <td>Female</td>\n",
       "      <td>0</td>\n",
       "      <td>0</td>\n",
       "      <td>27.32</td>\n",
       "      <td>0</td>\n",
       "      <td>54.0</td>\n",
       "      <td>80.0</td>\n",
       "      <td>6.6</td>\n",
       "      <td>NaN</td>\n",
       "    </tr>\n",
       "    <tr>\n",
       "      <th>2</th>\n",
       "      <td>Male</td>\n",
       "      <td>0</td>\n",
       "      <td>0</td>\n",
       "      <td>27.32</td>\n",
       "      <td>0</td>\n",
       "      <td>28.0</td>\n",
       "      <td>158.0</td>\n",
       "      <td>NaN</td>\n",
       "      <td>never</td>\n",
       "    </tr>\n",
       "    <tr>\n",
       "      <th>3</th>\n",
       "      <td>Female</td>\n",
       "      <td>0</td>\n",
       "      <td>0</td>\n",
       "      <td>23.45</td>\n",
       "      <td>0</td>\n",
       "      <td>36.0</td>\n",
       "      <td>155.0</td>\n",
       "      <td>5.0</td>\n",
       "      <td>current</td>\n",
       "    </tr>\n",
       "    <tr>\n",
       "      <th>4</th>\n",
       "      <td>Male</td>\n",
       "      <td>1</td>\n",
       "      <td>1</td>\n",
       "      <td>20.14</td>\n",
       "      <td>0</td>\n",
       "      <td>76.0</td>\n",
       "      <td>155.0</td>\n",
       "      <td>4.8</td>\n",
       "      <td>current</td>\n",
       "    </tr>\n",
       "    <tr>\n",
       "      <th>...</th>\n",
       "      <td>...</td>\n",
       "      <td>...</td>\n",
       "      <td>...</td>\n",
       "      <td>...</td>\n",
       "      <td>...</td>\n",
       "      <td>...</td>\n",
       "      <td>...</td>\n",
       "      <td>...</td>\n",
       "      <td>...</td>\n",
       "    </tr>\n",
       "    <tr>\n",
       "      <th>99994</th>\n",
       "      <td>Female</td>\n",
       "      <td>0</td>\n",
       "      <td>0</td>\n",
       "      <td>24.60</td>\n",
       "      <td>0</td>\n",
       "      <td>36.0</td>\n",
       "      <td>145.0</td>\n",
       "      <td>4.8</td>\n",
       "      <td>NaN</td>\n",
       "    </tr>\n",
       "    <tr>\n",
       "      <th>99996</th>\n",
       "      <td>Female</td>\n",
       "      <td>0</td>\n",
       "      <td>0</td>\n",
       "      <td>17.37</td>\n",
       "      <td>0</td>\n",
       "      <td>2.0</td>\n",
       "      <td>100.0</td>\n",
       "      <td>6.5</td>\n",
       "      <td>NaN</td>\n",
       "    </tr>\n",
       "    <tr>\n",
       "      <th>99997</th>\n",
       "      <td>Male</td>\n",
       "      <td>0</td>\n",
       "      <td>0</td>\n",
       "      <td>27.83</td>\n",
       "      <td>0</td>\n",
       "      <td>66.0</td>\n",
       "      <td>155.0</td>\n",
       "      <td>5.7</td>\n",
       "      <td>former</td>\n",
       "    </tr>\n",
       "    <tr>\n",
       "      <th>99998</th>\n",
       "      <td>Female</td>\n",
       "      <td>0</td>\n",
       "      <td>0</td>\n",
       "      <td>35.42</td>\n",
       "      <td>0</td>\n",
       "      <td>24.0</td>\n",
       "      <td>100.0</td>\n",
       "      <td>NaN</td>\n",
       "      <td>never</td>\n",
       "    </tr>\n",
       "    <tr>\n",
       "      <th>99999</th>\n",
       "      <td>Female</td>\n",
       "      <td>0</td>\n",
       "      <td>0</td>\n",
       "      <td>22.43</td>\n",
       "      <td>0</td>\n",
       "      <td>57.0</td>\n",
       "      <td>90.0</td>\n",
       "      <td>6.6</td>\n",
       "      <td>current</td>\n",
       "    </tr>\n",
       "  </tbody>\n",
       "</table>\n",
       "<p>95414 rows × 9 columns</p>\n",
       "</div>"
      ],
      "text/plain": [
       "       gender  hypertension  heart_disease    bmi  diabetes   Age  \\\n",
       "0      Female             0              1  25.19         0  80.0   \n",
       "1      Female             0              0  27.32         0  54.0   \n",
       "2        Male             0              0  27.32         0  28.0   \n",
       "3      Female             0              0  23.45         0  36.0   \n",
       "4        Male             1              1  20.14         0  76.0   \n",
       "...       ...           ...            ...    ...       ...   ...   \n",
       "99994  Female             0              0  24.60         0  36.0   \n",
       "99996  Female             0              0  17.37         0   2.0   \n",
       "99997    Male             0              0  27.83         0  66.0   \n",
       "99998  Female             0              0  35.42         0  24.0   \n",
       "99999  Female             0              0  22.43         0  57.0   \n",
       "\n",
       "       Blood_glucose_level  HBA1c_level Smoking_History  \n",
       "0                    140.0          NaN           never  \n",
       "1                     80.0          6.6             NaN  \n",
       "2                    158.0          NaN           never  \n",
       "3                    155.0          5.0         current  \n",
       "4                    155.0          4.8         current  \n",
       "...                    ...          ...             ...  \n",
       "99994                145.0          4.8             NaN  \n",
       "99996                100.0          6.5             NaN  \n",
       "99997                155.0          5.7          former  \n",
       "99998                100.0          NaN           never  \n",
       "99999                 90.0          6.6         current  \n",
       "\n",
       "[95414 rows x 9 columns]"
      ]
     },
     "execution_count": 7,
     "metadata": {},
     "output_type": "execute_result"
    }
   ],
   "source": [
    "#Procedo a eliminar duplicados que no me entregaran información\n",
    "df.drop_duplicates()"
   ]
  },
  {
   "cell_type": "code",
   "execution_count": 8,
   "id": "4f598503",
   "metadata": {},
   "outputs": [
    {
     "name": "stdout",
     "output_type": "stream",
     "text": [
      "<class 'pandas.core.frame.DataFrame'>\n",
      "RangeIndex: 100000 entries, 0 to 99999\n",
      "Data columns (total 9 columns):\n",
      " #   Column               Non-Null Count   Dtype  \n",
      "---  ------               --------------   -----  \n",
      " 0   gender               100000 non-null  object \n",
      " 1   hypertension         100000 non-null  int64  \n",
      " 2   heart_disease        100000 non-null  int64  \n",
      " 3   bmi                  100000 non-null  float64\n",
      " 4   diabetes             100000 non-null  int64  \n",
      " 5   Age                  92993 non-null   float64\n",
      " 6   Blood_glucose_level  94987 non-null   float64\n",
      " 7   HBA1c_level          80250 non-null   float64\n",
      " 8   Smoking_History      64184 non-null   object \n",
      "dtypes: float64(4), int64(3), object(2)\n",
      "memory usage: 6.9+ MB\n"
     ]
    }
   ],
   "source": [
    "#Verifico la existencia de valores nulos\n",
    "df.info()"
   ]
  },
  {
   "cell_type": "code",
   "execution_count": 9,
   "id": "998871a7",
   "metadata": {},
   "outputs": [
    {
     "data": {
      "text/plain": [
       "gender                     0\n",
       "hypertension               0\n",
       "heart_disease              0\n",
       "bmi                        0\n",
       "diabetes                   0\n",
       "Age                     7007\n",
       "Blood_glucose_level     5013\n",
       "HBA1c_level            19750\n",
       "Smoking_History        35816\n",
       "dtype: int64"
      ]
     },
     "execution_count": 9,
     "metadata": {},
     "output_type": "execute_result"
    }
   ],
   "source": [
    "#cantidad de elementos nulos\n",
    "df.isnull().sum()"
   ]
  },
  {
   "cell_type": "code",
   "execution_count": 10,
   "id": "077123b7",
   "metadata": {},
   "outputs": [],
   "source": [
    "#Función que determina el porcentaje de elementos nulos y que determina la columna con cantidad de nulos mayores a 35%\n",
    "def eliminacion_nulos(df):\n",
    "\n",
    "    null_to_drop=[]\n",
    "    for i in df.columns:\n",
    "        null=df[i].isnull().sum()\n",
    "        if null >0:\n",
    "            percentage_of_null=(null*100)/len(df)\n",
    "            print(i,null,round(percentage_of_null,2))\n",
    "            if percentage_of_null>=35.:\n",
    "                null_to_drop.append(i)\n",
    "    return(null_to_drop)"
   ]
  },
  {
   "cell_type": "code",
   "execution_count": 11,
   "id": "c1d52db7",
   "metadata": {},
   "outputs": [
    {
     "name": "stdout",
     "output_type": "stream",
     "text": [
      "Age 7007 7.01\n",
      "Blood_glucose_level 5013 5.01\n",
      "HBA1c_level 19750 19.75\n",
      "Smoking_History 35816 35.82\n"
     ]
    },
    {
     "data": {
      "text/plain": [
       "['Smoking_History']"
      ]
     },
     "execution_count": 11,
     "metadata": {},
     "output_type": "execute_result"
    }
   ],
   "source": [
    "eliminacion_nulos(df)\n",
    "\n",
    "#no se eliminara ninguna columna con nulos considerando que la información que entrega la columna 'Smoking_History' \n",
    "#es relevante y el limite de corte es muy cercano."
   ]
  },
  {
   "cell_type": "code",
   "execution_count": 12,
   "id": "60d78221",
   "metadata": {},
   "outputs": [
    {
     "name": "stdout",
     "output_type": "stream",
     "text": [
      "<class 'pandas.core.frame.DataFrame'>\n",
      "RangeIndex: 100000 entries, 0 to 99999\n",
      "Data columns (total 9 columns):\n",
      " #   Column               Non-Null Count   Dtype  \n",
      "---  ------               --------------   -----  \n",
      " 0   gender               100000 non-null  object \n",
      " 1   hypertension         100000 non-null  int64  \n",
      " 2   heart_disease        100000 non-null  int64  \n",
      " 3   bmi                  100000 non-null  float64\n",
      " 4   diabetes             100000 non-null  int64  \n",
      " 5   Age                  92993 non-null   float64\n",
      " 6   Blood_glucose_level  94987 non-null   float64\n",
      " 7   HBA1c_level          80250 non-null   float64\n",
      " 8   Smoking_History      64184 non-null   object \n",
      "dtypes: float64(4), int64(3), object(2)\n",
      "memory usage: 6.9+ MB\n"
     ]
    }
   ],
   "source": [
    "df.info()"
   ]
  },
  {
   "cell_type": "code",
   "execution_count": 13,
   "id": "80916ed5",
   "metadata": {},
   "outputs": [
    {
     "data": {
      "text/plain": [
       "<AxesSubplot: >"
      ]
     },
     "execution_count": 13,
     "metadata": {},
     "output_type": "execute_result"
    },
    {
     "data": {
      "image/png": "[encoded data removed]",
      "text/plain": [
       "<Figure size 640x480 with 1 Axes>"
      ]
     },
     "metadata": {},
     "output_type": "display_data"
    }
   ],
   "source": [
    "sns.boxplot(df.Age)"
   ]
  },
  {
   "cell_type": "code",
   "execution_count": 14,
   "id": "48de310b",
   "metadata": {},
   "outputs": [
    {
     "data": {
      "text/plain": [
       "<AxesSubplot: >"
      ]
     },
     "execution_count": 14,
     "metadata": {},
     "output_type": "execute_result"
    },
    {
     "data": {
      "image/png": "[encoded data removed]",
      "text/plain": [
       "<Figure size 640x480 with 1 Axes>"
      ]
     },
     "metadata": {},
     "output_type": "display_data"
    }
   ],
   "source": [
    "sns.boxplot(df.Blood_glucose_level)"
   ]
  },
  {
   "cell_type": "code",
   "execution_count": 15,
   "id": "50d40387",
   "metadata": {},
   "outputs": [
    {
     "data": {
      "text/plain": [
       "<AxesSubplot: >"
      ]
     },
     "execution_count": 15,
     "metadata": {},
     "output_type": "execute_result"
    },
    {
     "data": {
      "image/png": "[encoded data removed]",
      "text/plain": [
       "<Figure size 640x480 with 1 Axes>"
      ]
     },
     "metadata": {},
     "output_type": "display_data"
    }
   ],
   "source": [
    "sns.boxplot(df.HBA1c_level)"
   ]
  },
  {
   "cell_type": "code",
   "execution_count": 16,
   "id": "83fcc018",
   "metadata": {},
   "outputs": [],
   "source": [
    "#Al analizar los boxplot se determina que los valores outliers pueden ser valores reales por lo que no seran modificados."
   ]
  },
  {
   "cell_type": "code",
   "execution_count": 17,
   "id": "7b426262",
   "metadata": {},
   "outputs": [],
   "source": [
    "#LLenado de nulos\n",
    "\n",
    "df['Age_imp']=df.Age.fillna(df.Age.median())\n",
    "df['Blood_glucose_level_imp']=df.Blood_glucose_level.fillna(df.Blood_glucose_level.mean())\n",
    "df['HBA1c_level_imp']=df.HBA1c_level.fillna(df.HBA1c_level.median())\n",
    "df['Smoking_History_imp']=df.Smoking_History.fillna(str(0))\n",
    "\n",
    "df=df.drop(columns=['Age','Blood_glucose_level','HBA1c_level','Smoking_History'])"
   ]
  },
  {
   "cell_type": "code",
   "execution_count": 18,
   "id": "ee3af27e",
   "metadata": {},
   "outputs": [],
   "source": [
    "#sns.histplot(df.Age)"
   ]
  },
  {
   "cell_type": "code",
   "execution_count": 19,
   "id": "8eb7a94e",
   "metadata": {},
   "outputs": [],
   "source": [
    "#Analiso las variables categoricas para su transformación"
   ]
  },
  {
   "cell_type": "code",
   "execution_count": 20,
   "id": "9e92ff8e",
   "metadata": {
    "scrolled": false
   },
   "outputs": [
    {
     "data": {
      "text/plain": [
       "Female    58552\n",
       "Male      41430\n",
       "Other        18\n",
       "Name: gender, dtype: int64"
      ]
     },
     "execution_count": 20,
     "metadata": {},
     "output_type": "execute_result"
    }
   ],
   "source": [
    "df['gender'].value_counts()"
   ]
  },
  {
   "cell_type": "code",
   "execution_count": 21,
   "id": "2d6916d8",
   "metadata": {},
   "outputs": [
    {
     "data": {
      "text/plain": [
       "0    92515\n",
       "1     7485\n",
       "Name: hypertension, dtype: int64"
      ]
     },
     "execution_count": 21,
     "metadata": {},
     "output_type": "execute_result"
    }
   ],
   "source": [
    "df.hypertension.value_counts()"
   ]
  },
  {
   "cell_type": "code",
   "execution_count": 22,
   "id": "d9a65826",
   "metadata": {},
   "outputs": [
    {
     "data": {
      "text/plain": [
       "0    96058\n",
       "1     3942\n",
       "Name: heart_disease, dtype: int64"
      ]
     },
     "execution_count": 22,
     "metadata": {},
     "output_type": "execute_result"
    }
   ],
   "source": [
    "df.heart_disease.value_counts()"
   ]
  },
  {
   "cell_type": "code",
   "execution_count": 23,
   "id": "9dc565fe",
   "metadata": {},
   "outputs": [
    {
     "data": {
      "text/plain": [
       "0    91500\n",
       "1     8500\n",
       "Name: diabetes, dtype: int64"
      ]
     },
     "execution_count": 23,
     "metadata": {},
     "output_type": "execute_result"
    }
   ],
   "source": [
    "df.diabetes.value_counts()"
   ]
  },
  {
   "cell_type": "code",
   "execution_count": 24,
   "id": "97cf9252",
   "metadata": {},
   "outputs": [],
   "source": [
    "#df.Smoking_History.value_counts(dropna=False)"
   ]
  },
  {
   "cell_type": "code",
   "execution_count": 25,
   "id": "84b6e583",
   "metadata": {},
   "outputs": [
    {
     "data": {
      "text/html": [
       "<div>\n",
       "<style scoped>\n",
       "    .dataframe tbody tr th:only-of-type {\n",
       "        vertical-align: middle;\n",
       "    }\n",
       "\n",
       "    .dataframe tbody tr th {\n",
       "        vertical-align: top;\n",
       "    }\n",
       "\n",
       "    .dataframe thead th {\n",
       "        text-align: right;\n",
       "    }\n",
       "</style>\n",
       "<table border=\"1\" class=\"dataframe\">\n",
       "  <thead>\n",
       "    <tr style=\"text-align: right;\">\n",
       "      <th></th>\n",
       "      <th>gender</th>\n",
       "      <th>hypertension</th>\n",
       "      <th>heart_disease</th>\n",
       "      <th>bmi</th>\n",
       "      <th>diabetes</th>\n",
       "      <th>Age_imp</th>\n",
       "      <th>Blood_glucose_level_imp</th>\n",
       "      <th>HBA1c_level_imp</th>\n",
       "      <th>Smoking_History_imp</th>\n",
       "    </tr>\n",
       "  </thead>\n",
       "  <tbody>\n",
       "    <tr>\n",
       "      <th>0</th>\n",
       "      <td>Female</td>\n",
       "      <td>0</td>\n",
       "      <td>1</td>\n",
       "      <td>25.19</td>\n",
       "      <td>0</td>\n",
       "      <td>80.0</td>\n",
       "      <td>140.0</td>\n",
       "      <td>5.8</td>\n",
       "      <td>never</td>\n",
       "    </tr>\n",
       "    <tr>\n",
       "      <th>1</th>\n",
       "      <td>Female</td>\n",
       "      <td>0</td>\n",
       "      <td>0</td>\n",
       "      <td>27.32</td>\n",
       "      <td>0</td>\n",
       "      <td>54.0</td>\n",
       "      <td>80.0</td>\n",
       "      <td>6.6</td>\n",
       "      <td>0</td>\n",
       "    </tr>\n",
       "    <tr>\n",
       "      <th>2</th>\n",
       "      <td>Male</td>\n",
       "      <td>0</td>\n",
       "      <td>0</td>\n",
       "      <td>27.32</td>\n",
       "      <td>0</td>\n",
       "      <td>28.0</td>\n",
       "      <td>158.0</td>\n",
       "      <td>5.8</td>\n",
       "      <td>never</td>\n",
       "    </tr>\n",
       "    <tr>\n",
       "      <th>3</th>\n",
       "      <td>Female</td>\n",
       "      <td>0</td>\n",
       "      <td>0</td>\n",
       "      <td>23.45</td>\n",
       "      <td>0</td>\n",
       "      <td>36.0</td>\n",
       "      <td>155.0</td>\n",
       "      <td>5.0</td>\n",
       "      <td>current</td>\n",
       "    </tr>\n",
       "    <tr>\n",
       "      <th>4</th>\n",
       "      <td>Male</td>\n",
       "      <td>1</td>\n",
       "      <td>1</td>\n",
       "      <td>20.14</td>\n",
       "      <td>0</td>\n",
       "      <td>76.0</td>\n",
       "      <td>155.0</td>\n",
       "      <td>4.8</td>\n",
       "      <td>current</td>\n",
       "    </tr>\n",
       "  </tbody>\n",
       "</table>\n",
       "</div>"
      ],
      "text/plain": [
       "   gender  hypertension  heart_disease    bmi  diabetes  Age_imp  \\\n",
       "0  Female             0              1  25.19         0     80.0   \n",
       "1  Female             0              0  27.32         0     54.0   \n",
       "2    Male             0              0  27.32         0     28.0   \n",
       "3  Female             0              0  23.45         0     36.0   \n",
       "4    Male             1              1  20.14         0     76.0   \n",
       "\n",
       "   Blood_glucose_level_imp  HBA1c_level_imp Smoking_History_imp  \n",
       "0                    140.0              5.8               never  \n",
       "1                     80.0              6.6                   0  \n",
       "2                    158.0              5.8               never  \n",
       "3                    155.0              5.0             current  \n",
       "4                    155.0              4.8             current  "
      ]
     },
     "execution_count": 25,
     "metadata": {},
     "output_type": "execute_result"
    }
   ],
   "source": [
    "df.head()"
   ]
  },
  {
   "cell_type": "code",
   "execution_count": 26,
   "id": "b974dc57",
   "metadata": {},
   "outputs": [
    {
     "name": "stdout",
     "output_type": "stream",
     "text": [
      "<class 'pandas.core.frame.DataFrame'>\n",
      "RangeIndex: 100000 entries, 0 to 99999\n",
      "Data columns (total 9 columns):\n",
      " #   Column                   Non-Null Count   Dtype  \n",
      "---  ------                   --------------   -----  \n",
      " 0   gender                   100000 non-null  object \n",
      " 1   hypertension             100000 non-null  int64  \n",
      " 2   heart_disease            100000 non-null  int64  \n",
      " 3   bmi                      100000 non-null  float64\n",
      " 4   diabetes                 100000 non-null  int64  \n",
      " 5   Age_imp                  100000 non-null  float64\n",
      " 6   Blood_glucose_level_imp  100000 non-null  float64\n",
      " 7   HBA1c_level_imp          100000 non-null  float64\n",
      " 8   Smoking_History_imp      100000 non-null  object \n",
      "dtypes: float64(4), int64(3), object(2)\n",
      "memory usage: 6.9+ MB\n"
     ]
    }
   ],
   "source": [
    "df.info()"
   ]
  },
  {
   "cell_type": "markdown",
   "id": "7bea39fe",
   "metadata": {},
   "source": [
    "### Transformación de variables categoricas y numericas\n",
    "Para el correcto ajuste del modelo debo transformar las variables. Primero transformare las variables categoricas a una representción numerica."
   ]
  },
  {
   "cell_type": "code",
   "execution_count": 27,
   "id": "e4412d3d",
   "metadata": {},
   "outputs": [],
   "source": [
    "le = LabelEncoder()\n",
    "df_limpio=df\n",
    "\n",
    "le.fit(df['gender'])\n",
    "\n",
    "df_limpio['gender_imputada']=le.transform(df['gender'])\n",
    "\n",
    "le.fit(df.Smoking_History_imp)\n",
    "\n",
    "df_limpio['Smoking_History_imp_imputada']=le.transform(df.Smoking_History_imp)"
   ]
  },
  {
   "cell_type": "code",
   "execution_count": 28,
   "id": "02aad6aa",
   "metadata": {
    "scrolled": true
   },
   "outputs": [
    {
     "data": {
      "text/html": [
       "<div>\n",
       "<style scoped>\n",
       "    .dataframe tbody tr th:only-of-type {\n",
       "        vertical-align: middle;\n",
       "    }\n",
       "\n",
       "    .dataframe tbody tr th {\n",
       "        vertical-align: top;\n",
       "    }\n",
       "\n",
       "    .dataframe thead th {\n",
       "        text-align: right;\n",
       "    }\n",
       "</style>\n",
       "<table border=\"1\" class=\"dataframe\">\n",
       "  <thead>\n",
       "    <tr style=\"text-align: right;\">\n",
       "      <th></th>\n",
       "      <th>gender</th>\n",
       "      <th>hypertension</th>\n",
       "      <th>heart_disease</th>\n",
       "      <th>bmi</th>\n",
       "      <th>diabetes</th>\n",
       "      <th>Age_imp</th>\n",
       "      <th>Blood_glucose_level_imp</th>\n",
       "      <th>HBA1c_level_imp</th>\n",
       "      <th>Smoking_History_imp</th>\n",
       "      <th>gender_imputada</th>\n",
       "      <th>Smoking_History_imp_imputada</th>\n",
       "    </tr>\n",
       "  </thead>\n",
       "  <tbody>\n",
       "    <tr>\n",
       "      <th>0</th>\n",
       "      <td>Female</td>\n",
       "      <td>0</td>\n",
       "      <td>1</td>\n",
       "      <td>25.19</td>\n",
       "      <td>0</td>\n",
       "      <td>80.0</td>\n",
       "      <td>140.0</td>\n",
       "      <td>5.8</td>\n",
       "      <td>never</td>\n",
       "      <td>0</td>\n",
       "      <td>4</td>\n",
       "    </tr>\n",
       "    <tr>\n",
       "      <th>1</th>\n",
       "      <td>Female</td>\n",
       "      <td>0</td>\n",
       "      <td>0</td>\n",
       "      <td>27.32</td>\n",
       "      <td>0</td>\n",
       "      <td>54.0</td>\n",
       "      <td>80.0</td>\n",
       "      <td>6.6</td>\n",
       "      <td>0</td>\n",
       "      <td>0</td>\n",
       "      <td>0</td>\n",
       "    </tr>\n",
       "    <tr>\n",
       "      <th>2</th>\n",
       "      <td>Male</td>\n",
       "      <td>0</td>\n",
       "      <td>0</td>\n",
       "      <td>27.32</td>\n",
       "      <td>0</td>\n",
       "      <td>28.0</td>\n",
       "      <td>158.0</td>\n",
       "      <td>5.8</td>\n",
       "      <td>never</td>\n",
       "      <td>1</td>\n",
       "      <td>4</td>\n",
       "    </tr>\n",
       "    <tr>\n",
       "      <th>3</th>\n",
       "      <td>Female</td>\n",
       "      <td>0</td>\n",
       "      <td>0</td>\n",
       "      <td>23.45</td>\n",
       "      <td>0</td>\n",
       "      <td>36.0</td>\n",
       "      <td>155.0</td>\n",
       "      <td>5.0</td>\n",
       "      <td>current</td>\n",
       "      <td>0</td>\n",
       "      <td>1</td>\n",
       "    </tr>\n",
       "    <tr>\n",
       "      <th>4</th>\n",
       "      <td>Male</td>\n",
       "      <td>1</td>\n",
       "      <td>1</td>\n",
       "      <td>20.14</td>\n",
       "      <td>0</td>\n",
       "      <td>76.0</td>\n",
       "      <td>155.0</td>\n",
       "      <td>4.8</td>\n",
       "      <td>current</td>\n",
       "      <td>1</td>\n",
       "      <td>1</td>\n",
       "    </tr>\n",
       "    <tr>\n",
       "      <th>...</th>\n",
       "      <td>...</td>\n",
       "      <td>...</td>\n",
       "      <td>...</td>\n",
       "      <td>...</td>\n",
       "      <td>...</td>\n",
       "      <td>...</td>\n",
       "      <td>...</td>\n",
       "      <td>...</td>\n",
       "      <td>...</td>\n",
       "      <td>...</td>\n",
       "      <td>...</td>\n",
       "    </tr>\n",
       "    <tr>\n",
       "      <th>99995</th>\n",
       "      <td>Female</td>\n",
       "      <td>0</td>\n",
       "      <td>0</td>\n",
       "      <td>27.32</td>\n",
       "      <td>0</td>\n",
       "      <td>80.0</td>\n",
       "      <td>90.0</td>\n",
       "      <td>6.2</td>\n",
       "      <td>0</td>\n",
       "      <td>0</td>\n",
       "      <td>0</td>\n",
       "    </tr>\n",
       "    <tr>\n",
       "      <th>99996</th>\n",
       "      <td>Female</td>\n",
       "      <td>0</td>\n",
       "      <td>0</td>\n",
       "      <td>17.37</td>\n",
       "      <td>0</td>\n",
       "      <td>2.0</td>\n",
       "      <td>100.0</td>\n",
       "      <td>6.5</td>\n",
       "      <td>0</td>\n",
       "      <td>0</td>\n",
       "      <td>0</td>\n",
       "    </tr>\n",
       "    <tr>\n",
       "      <th>99997</th>\n",
       "      <td>Male</td>\n",
       "      <td>0</td>\n",
       "      <td>0</td>\n",
       "      <td>27.83</td>\n",
       "      <td>0</td>\n",
       "      <td>66.0</td>\n",
       "      <td>155.0</td>\n",
       "      <td>5.7</td>\n",
       "      <td>former</td>\n",
       "      <td>1</td>\n",
       "      <td>3</td>\n",
       "    </tr>\n",
       "    <tr>\n",
       "      <th>99998</th>\n",
       "      <td>Female</td>\n",
       "      <td>0</td>\n",
       "      <td>0</td>\n",
       "      <td>35.42</td>\n",
       "      <td>0</td>\n",
       "      <td>24.0</td>\n",
       "      <td>100.0</td>\n",
       "      <td>5.8</td>\n",
       "      <td>never</td>\n",
       "      <td>0</td>\n",
       "      <td>4</td>\n",
       "    </tr>\n",
       "    <tr>\n",
       "      <th>99999</th>\n",
       "      <td>Female</td>\n",
       "      <td>0</td>\n",
       "      <td>0</td>\n",
       "      <td>22.43</td>\n",
       "      <td>0</td>\n",
       "      <td>57.0</td>\n",
       "      <td>90.0</td>\n",
       "      <td>6.6</td>\n",
       "      <td>current</td>\n",
       "      <td>0</td>\n",
       "      <td>1</td>\n",
       "    </tr>\n",
       "  </tbody>\n",
       "</table>\n",
       "<p>100000 rows × 11 columns</p>\n",
       "</div>"
      ],
      "text/plain": [
       "       gender  hypertension  heart_disease    bmi  diabetes  Age_imp  \\\n",
       "0      Female             0              1  25.19         0     80.0   \n",
       "1      Female             0              0  27.32         0     54.0   \n",
       "2        Male             0              0  27.32         0     28.0   \n",
       "3      Female             0              0  23.45         0     36.0   \n",
       "4        Male             1              1  20.14         0     76.0   \n",
       "...       ...           ...            ...    ...       ...      ...   \n",
       "99995  Female             0              0  27.32         0     80.0   \n",
       "99996  Female             0              0  17.37         0      2.0   \n",
       "99997    Male             0              0  27.83         0     66.0   \n",
       "99998  Female             0              0  35.42         0     24.0   \n",
       "99999  Female             0              0  22.43         0     57.0   \n",
       "\n",
       "       Blood_glucose_level_imp  HBA1c_level_imp Smoking_History_imp  \\\n",
       "0                        140.0              5.8               never   \n",
       "1                         80.0              6.6                   0   \n",
       "2                        158.0              5.8               never   \n",
       "3                        155.0              5.0             current   \n",
       "4                        155.0              4.8             current   \n",
       "...                        ...              ...                 ...   \n",
       "99995                     90.0              6.2                   0   \n",
       "99996                    100.0              6.5                   0   \n",
       "99997                    155.0              5.7              former   \n",
       "99998                    100.0              5.8               never   \n",
       "99999                     90.0              6.6             current   \n",
       "\n",
       "       gender_imputada  Smoking_History_imp_imputada  \n",
       "0                    0                             4  \n",
       "1                    0                             0  \n",
       "2                    1                             4  \n",
       "3                    0                             1  \n",
       "4                    1                             1  \n",
       "...                ...                           ...  \n",
       "99995                0                             0  \n",
       "99996                0                             0  \n",
       "99997                1                             3  \n",
       "99998                0                             4  \n",
       "99999                0                             1  \n",
       "\n",
       "[100000 rows x 11 columns]"
      ]
     },
     "execution_count": 28,
     "metadata": {},
     "output_type": "execute_result"
    }
   ],
   "source": [
    "df_limpio"
   ]
  },
  {
   "cell_type": "markdown",
   "id": "c600bd38",
   "metadata": {},
   "source": [
    "Ahora se transforman las variables numericas para poder estandarizarlas. En este caso se utilizara StandardScaler ya que es optimo al centrar los valores en 0 y una desviación estandar de 1"
   ]
  },
  {
   "cell_type": "code",
   "execution_count": 29,
   "id": "f97f456b",
   "metadata": {},
   "outputs": [],
   "source": [
    "# Crear un objeto StandardScaler\n",
    "scaler = StandardScaler()\n",
    "\n",
    "# Escalar las características numéricas\n",
    "var_numericas = ['bmi', 'Age_imp', 'Blood_glucose_level_imp']\n",
    "df_limpio[var_numericas] = scaler.fit_transform(df_limpio[var_numericas])"
   ]
  },
  {
   "cell_type": "code",
   "execution_count": 30,
   "id": "fabc1d00",
   "metadata": {},
   "outputs": [
    {
     "data": {
      "text/html": [
       "<div>\n",
       "<style scoped>\n",
       "    .dataframe tbody tr th:only-of-type {\n",
       "        vertical-align: middle;\n",
       "    }\n",
       "\n",
       "    .dataframe tbody tr th {\n",
       "        vertical-align: top;\n",
       "    }\n",
       "\n",
       "    .dataframe thead th {\n",
       "        text-align: right;\n",
       "    }\n",
       "</style>\n",
       "<table border=\"1\" class=\"dataframe\">\n",
       "  <thead>\n",
       "    <tr style=\"text-align: right;\">\n",
       "      <th></th>\n",
       "      <th>gender</th>\n",
       "      <th>hypertension</th>\n",
       "      <th>heart_disease</th>\n",
       "      <th>bmi</th>\n",
       "      <th>diabetes</th>\n",
       "      <th>Age_imp</th>\n",
       "      <th>Blood_glucose_level_imp</th>\n",
       "      <th>HBA1c_level_imp</th>\n",
       "      <th>Smoking_History_imp</th>\n",
       "      <th>gender_imputada</th>\n",
       "      <th>Smoking_History_imp_imputada</th>\n",
       "    </tr>\n",
       "  </thead>\n",
       "  <tbody>\n",
       "    <tr>\n",
       "      <th>0</th>\n",
       "      <td>Female</td>\n",
       "      <td>0</td>\n",
       "      <td>1</td>\n",
       "      <td>-0.321056</td>\n",
       "      <td>0</td>\n",
       "      <td>1.751120</td>\n",
       "      <td>0.048463</td>\n",
       "      <td>5.8</td>\n",
       "      <td>never</td>\n",
       "      <td>0</td>\n",
       "      <td>4</td>\n",
       "    </tr>\n",
       "    <tr>\n",
       "      <th>1</th>\n",
       "      <td>Female</td>\n",
       "      <td>0</td>\n",
       "      <td>0</td>\n",
       "      <td>-0.000116</td>\n",
       "      <td>0</td>\n",
       "      <td>0.554275</td>\n",
       "      <td>-1.462686</td>\n",
       "      <td>6.6</td>\n",
       "      <td>0</td>\n",
       "      <td>0</td>\n",
       "      <td>0</td>\n",
       "    </tr>\n",
       "    <tr>\n",
       "      <th>2</th>\n",
       "      <td>Male</td>\n",
       "      <td>0</td>\n",
       "      <td>0</td>\n",
       "      <td>-0.000116</td>\n",
       "      <td>0</td>\n",
       "      <td>-0.642570</td>\n",
       "      <td>0.501808</td>\n",
       "      <td>5.8</td>\n",
       "      <td>never</td>\n",
       "      <td>1</td>\n",
       "      <td>4</td>\n",
       "    </tr>\n",
       "    <tr>\n",
       "      <th>3</th>\n",
       "      <td>Female</td>\n",
       "      <td>0</td>\n",
       "      <td>0</td>\n",
       "      <td>-0.583232</td>\n",
       "      <td>0</td>\n",
       "      <td>-0.274310</td>\n",
       "      <td>0.426251</td>\n",
       "      <td>5.0</td>\n",
       "      <td>current</td>\n",
       "      <td>0</td>\n",
       "      <td>1</td>\n",
       "    </tr>\n",
       "    <tr>\n",
       "      <th>4</th>\n",
       "      <td>Male</td>\n",
       "      <td>1</td>\n",
       "      <td>1</td>\n",
       "      <td>-1.081970</td>\n",
       "      <td>0</td>\n",
       "      <td>1.566990</td>\n",
       "      <td>0.426251</td>\n",
       "      <td>4.8</td>\n",
       "      <td>current</td>\n",
       "      <td>1</td>\n",
       "      <td>1</td>\n",
       "    </tr>\n",
       "  </tbody>\n",
       "</table>\n",
       "</div>"
      ],
      "text/plain": [
       "   gender  hypertension  heart_disease       bmi  diabetes   Age_imp  \\\n",
       "0  Female             0              1 -0.321056         0  1.751120   \n",
       "1  Female             0              0 -0.000116         0  0.554275   \n",
       "2    Male             0              0 -0.000116         0 -0.642570   \n",
       "3  Female             0              0 -0.583232         0 -0.274310   \n",
       "4    Male             1              1 -1.081970         0  1.566990   \n",
       "\n",
       "   Blood_glucose_level_imp  HBA1c_level_imp Smoking_History_imp  \\\n",
       "0                 0.048463              5.8               never   \n",
       "1                -1.462686              6.6                   0   \n",
       "2                 0.501808              5.8               never   \n",
       "3                 0.426251              5.0             current   \n",
       "4                 0.426251              4.8             current   \n",
       "\n",
       "   gender_imputada  Smoking_History_imp_imputada  \n",
       "0                0                             4  \n",
       "1                0                             0  \n",
       "2                1                             4  \n",
       "3                0                             1  \n",
       "4                1                             1  "
      ]
     },
     "execution_count": 30,
     "metadata": {},
     "output_type": "execute_result"
    }
   ],
   "source": [
    "df_limpio.head()"
   ]
  },
  {
   "cell_type": "code",
   "execution_count": 31,
   "id": "647ee960",
   "metadata": {},
   "outputs": [],
   "source": [
    "df_limpio.drop(columns=['gender','Smoking_History_imp'],inplace=True)"
   ]
  },
  {
   "cell_type": "code",
   "execution_count": 32,
   "id": "22009f7b",
   "metadata": {
    "scrolled": true
   },
   "outputs": [
    {
     "data": {
      "text/html": [
       "<div>\n",
       "<style scoped>\n",
       "    .dataframe tbody tr th:only-of-type {\n",
       "        vertical-align: middle;\n",
       "    }\n",
       "\n",
       "    .dataframe tbody tr th {\n",
       "        vertical-align: top;\n",
       "    }\n",
       "\n",
       "    .dataframe thead th {\n",
       "        text-align: right;\n",
       "    }\n",
       "</style>\n",
       "<table border=\"1\" class=\"dataframe\">\n",
       "  <thead>\n",
       "    <tr style=\"text-align: right;\">\n",
       "      <th></th>\n",
       "      <th>hypertension</th>\n",
       "      <th>heart_disease</th>\n",
       "      <th>bmi</th>\n",
       "      <th>diabetes</th>\n",
       "      <th>Age_imp</th>\n",
       "      <th>Blood_glucose_level_imp</th>\n",
       "      <th>HBA1c_level_imp</th>\n",
       "      <th>gender_imputada</th>\n",
       "      <th>Smoking_History_imp_imputada</th>\n",
       "    </tr>\n",
       "  </thead>\n",
       "  <tbody>\n",
       "    <tr>\n",
       "      <th>0</th>\n",
       "      <td>0</td>\n",
       "      <td>1</td>\n",
       "      <td>-0.321056</td>\n",
       "      <td>0</td>\n",
       "      <td>1.751120</td>\n",
       "      <td>0.048463</td>\n",
       "      <td>5.8</td>\n",
       "      <td>0</td>\n",
       "      <td>4</td>\n",
       "    </tr>\n",
       "    <tr>\n",
       "      <th>1</th>\n",
       "      <td>0</td>\n",
       "      <td>0</td>\n",
       "      <td>-0.000116</td>\n",
       "      <td>0</td>\n",
       "      <td>0.554275</td>\n",
       "      <td>-1.462686</td>\n",
       "      <td>6.6</td>\n",
       "      <td>0</td>\n",
       "      <td>0</td>\n",
       "    </tr>\n",
       "    <tr>\n",
       "      <th>2</th>\n",
       "      <td>0</td>\n",
       "      <td>0</td>\n",
       "      <td>-0.000116</td>\n",
       "      <td>0</td>\n",
       "      <td>-0.642570</td>\n",
       "      <td>0.501808</td>\n",
       "      <td>5.8</td>\n",
       "      <td>1</td>\n",
       "      <td>4</td>\n",
       "    </tr>\n",
       "    <tr>\n",
       "      <th>3</th>\n",
       "      <td>0</td>\n",
       "      <td>0</td>\n",
       "      <td>-0.583232</td>\n",
       "      <td>0</td>\n",
       "      <td>-0.274310</td>\n",
       "      <td>0.426251</td>\n",
       "      <td>5.0</td>\n",
       "      <td>0</td>\n",
       "      <td>1</td>\n",
       "    </tr>\n",
       "    <tr>\n",
       "      <th>4</th>\n",
       "      <td>1</td>\n",
       "      <td>1</td>\n",
       "      <td>-1.081970</td>\n",
       "      <td>0</td>\n",
       "      <td>1.566990</td>\n",
       "      <td>0.426251</td>\n",
       "      <td>4.8</td>\n",
       "      <td>1</td>\n",
       "      <td>1</td>\n",
       "    </tr>\n",
       "    <tr>\n",
       "      <th>...</th>\n",
       "      <td>...</td>\n",
       "      <td>...</td>\n",
       "      <td>...</td>\n",
       "      <td>...</td>\n",
       "      <td>...</td>\n",
       "      <td>...</td>\n",
       "      <td>...</td>\n",
       "      <td>...</td>\n",
       "      <td>...</td>\n",
       "    </tr>\n",
       "    <tr>\n",
       "      <th>99995</th>\n",
       "      <td>0</td>\n",
       "      <td>0</td>\n",
       "      <td>-0.000116</td>\n",
       "      <td>0</td>\n",
       "      <td>1.751120</td>\n",
       "      <td>-1.210828</td>\n",
       "      <td>6.2</td>\n",
       "      <td>0</td>\n",
       "      <td>0</td>\n",
       "    </tr>\n",
       "    <tr>\n",
       "      <th>99996</th>\n",
       "      <td>0</td>\n",
       "      <td>0</td>\n",
       "      <td>-1.499343</td>\n",
       "      <td>0</td>\n",
       "      <td>-1.839415</td>\n",
       "      <td>-0.958970</td>\n",
       "      <td>6.5</td>\n",
       "      <td>0</td>\n",
       "      <td>0</td>\n",
       "    </tr>\n",
       "    <tr>\n",
       "      <th>99997</th>\n",
       "      <td>0</td>\n",
       "      <td>0</td>\n",
       "      <td>0.076729</td>\n",
       "      <td>0</td>\n",
       "      <td>1.106665</td>\n",
       "      <td>0.426251</td>\n",
       "      <td>5.7</td>\n",
       "      <td>1</td>\n",
       "      <td>3</td>\n",
       "    </tr>\n",
       "    <tr>\n",
       "      <th>99998</th>\n",
       "      <td>0</td>\n",
       "      <td>0</td>\n",
       "      <td>1.220361</td>\n",
       "      <td>0</td>\n",
       "      <td>-0.826700</td>\n",
       "      <td>-0.958970</td>\n",
       "      <td>5.8</td>\n",
       "      <td>0</td>\n",
       "      <td>4</td>\n",
       "    </tr>\n",
       "    <tr>\n",
       "      <th>99999</th>\n",
       "      <td>0</td>\n",
       "      <td>0</td>\n",
       "      <td>-0.736922</td>\n",
       "      <td>0</td>\n",
       "      <td>0.692373</td>\n",
       "      <td>-1.210828</td>\n",
       "      <td>6.6</td>\n",
       "      <td>0</td>\n",
       "      <td>1</td>\n",
       "    </tr>\n",
       "  </tbody>\n",
       "</table>\n",
       "<p>100000 rows × 9 columns</p>\n",
       "</div>"
      ],
      "text/plain": [
       "       hypertension  heart_disease       bmi  diabetes   Age_imp  \\\n",
       "0                 0              1 -0.321056         0  1.751120   \n",
       "1                 0              0 -0.000116         0  0.554275   \n",
       "2                 0              0 -0.000116         0 -0.642570   \n",
       "3                 0              0 -0.583232         0 -0.274310   \n",
       "4                 1              1 -1.081970         0  1.566990   \n",
       "...             ...            ...       ...       ...       ...   \n",
       "99995             0              0 -0.000116         0  1.751120   \n",
       "99996             0              0 -1.499343         0 -1.839415   \n",
       "99997             0              0  0.076729         0  1.106665   \n",
       "99998             0              0  1.220361         0 -0.826700   \n",
       "99999             0              0 -0.736922         0  0.692373   \n",
       "\n",
       "       Blood_glucose_level_imp  HBA1c_level_imp  gender_imputada  \\\n",
       "0                     0.048463              5.8                0   \n",
       "1                    -1.462686              6.6                0   \n",
       "2                     0.501808              5.8                1   \n",
       "3                     0.426251              5.0                0   \n",
       "4                     0.426251              4.8                1   \n",
       "...                        ...              ...              ...   \n",
       "99995                -1.210828              6.2                0   \n",
       "99996                -0.958970              6.5                0   \n",
       "99997                 0.426251              5.7                1   \n",
       "99998                -0.958970              5.8                0   \n",
       "99999                -1.210828              6.6                0   \n",
       "\n",
       "       Smoking_History_imp_imputada  \n",
       "0                                 4  \n",
       "1                                 0  \n",
       "2                                 4  \n",
       "3                                 1  \n",
       "4                                 1  \n",
       "...                             ...  \n",
       "99995                             0  \n",
       "99996                             0  \n",
       "99997                             3  \n",
       "99998                             4  \n",
       "99999                             1  \n",
       "\n",
       "[100000 rows x 9 columns]"
      ]
     },
     "execution_count": 32,
     "metadata": {},
     "output_type": "execute_result"
    }
   ],
   "source": [
    "df_limpio"
   ]
  },
  {
   "cell_type": "markdown",
   "id": "291df44c",
   "metadata": {},
   "source": [
    "### Selección de variables y definición del modelo.\n",
    "Luego del analisis exploratirio y la posterior limpieza de las variables puedo realizar una correlación de las variables."
   ]
  },
  {
   "cell_type": "code",
   "execution_count": 33,
   "id": "dba5fa14",
   "metadata": {},
   "outputs": [
    {
     "data": {
      "text/plain": [
       "<AxesSubplot: >"
      ]
     },
     "execution_count": 33,
     "metadata": {},
     "output_type": "execute_result"
    },
    {
     "data": {
      "image/png": "[encoded data removed]",
      "text/plain": [
       "<Figure size 900x400 with 2 Axes>"
      ]
     },
     "metadata": {},
     "output_type": "display_data"
    }
   ],
   "source": [
    "pearson = df_limpio.corr(method='pearson')\n",
    "\n",
    "# Ajustar el tamaño de la figura\n",
    "fig, ax = plt.subplots(figsize=(9, 4))\n",
    "\n",
    "# Generar el mapa de calor\n",
    "sns.heatmap(pearson, annot=True, fmt=\".2f\", cmap=\"coolwarm\", ax=ax)"
   ]
  },
  {
   "cell_type": "markdown",
   "id": "09641ca3",
   "metadata": {},
   "source": [
    "No se observa una correlación entre las columnas que componen el dataset, además todas las columnas entregan información relebante sobre los pacientes, es por esto que se decide conservar todas las columnas para este dataframe.  \n",
    "\n",
    "Considerando que este es un modelo supervisado cuya variable a predecir es categorica/binaria presentaré como opción los siguientes modelos:  \n",
    "    - LogisticRegression  \n",
    "    - DecisionTreeClassifier  \n",
    "    - RandomForest  \n",
    "    \n",
    "Debemos verificar primero que los datos esten balanceados."
   ]
  },
  {
   "cell_type": "code",
   "execution_count": 34,
   "id": "54ad8878",
   "metadata": {},
   "outputs": [
    {
     "data": {
      "text/plain": [
       "0    91500\n",
       "1     8500\n",
       "Name: diabetes, dtype: int64"
      ]
     },
     "execution_count": 34,
     "metadata": {},
     "output_type": "execute_result"
    }
   ],
   "source": [
    "df_limpio.diabetes.value_counts()"
   ]
  },
  {
   "cell_type": "markdown",
   "id": "df0644cf",
   "metadata": {},
   "source": [
    "Dado que nuestra variable objetivo no se encuentra balanceada utilizare el metodo de generar datos sinteticos utilizando SMOTE, para esto subdibidimos el dataset inicial utilizando TraineTest y luego aplico la tecnica de balanceo."
   ]
  },
  {
   "cell_type": "code",
   "execution_count": 35,
   "id": "b54f8c1e",
   "metadata": {},
   "outputs": [],
   "source": [
    "X = df_limpio.drop('diabetes', axis=1)\n",
    "y = df_limpio['diabetes']\n",
    "\n",
    "X_train, X_test, y_train, y_test = train_test_split(X, y, train_size=0.75)\n",
    "\n",
    "balanceo = SMOTE(random_state=42)\n",
    "X_train_res, y_train_res = balanceo.fit_resample(X_train, y_train)"
   ]
  },
  {
   "cell_type": "code",
   "execution_count": 36,
   "id": "b80b22fd",
   "metadata": {},
   "outputs": [],
   "source": [
    "#Grafico de la matriz de confusión y analizo diversas metrica\n",
    "\n",
    "def mostrar_resultados(y_test, y_pred):\n",
    "    conf_matrix = confusion_matrix(y_test, y_pred)\n",
    "    plt.figure(figsize=(5, 5))\n",
    "    sns.heatmap(conf_matrix, annot=True, fmt=\"d\")\n",
    "    plt.title(\"Confusion matrix\")\n",
    "    plt.ylabel('Valores reales')\n",
    "    plt.xlabel('Valores predichos')\n",
    "    plt.show()\n",
    "    print(classification_report(y_test,y_pred))\n"
   ]
  },
  {
   "cell_type": "markdown",
   "id": "512fd2ef",
   "metadata": {},
   "source": [
    "Para definir el modelo de Regresión Logística defino los parametros penalty=L2 ya que ayuda a controlar el sobreajuste, además seleccionamos class_weigth=balanced para controlar el desbalanceo de datos."
   ]
  },
  {
   "cell_type": "code",
   "execution_count": 37,
   "id": "3c71aff3",
   "metadata": {},
   "outputs": [
    {
     "data": {
      "image/png": "[encoded data removed]",
      "text/plain": [
       "<Figure size 500x500 with 2 Axes>"
      ]
     },
     "metadata": {},
     "output_type": "display_data"
    },
    {
     "name": "stdout",
     "output_type": "stream",
     "text": [
      "              precision    recall  f1-score   support\n",
      "\n",
      "           0       0.98      0.87      0.92     22870\n",
      "           1       0.37      0.86      0.52      2130\n",
      "\n",
      "    accuracy                           0.87     25000\n",
      "   macro avg       0.68      0.86      0.72     25000\n",
      "weighted avg       0.93      0.87      0.89     25000\n",
      "\n"
     ]
    }
   ],
   "source": [
    "#------Modelo LogisticRegression-------\n",
    "\n",
    "modelo_RL = LogisticRegression(penalty='l2',class_weight='balanced',max_iter=5000).fit(X_train_res,y_train_res)\n",
    "\n",
    "#Predicsion del modelo a los datos balanceados\n",
    "pre_y_RL = modelo_RL.predict(X_test)\n",
    "\n",
    "#Metricas y matris de confusion\n",
    "mostrar_resultados(y_test, pre_y_RL)"
   ]
  },
  {
   "cell_type": "markdown",
   "id": "f1829b24",
   "metadata": {},
   "source": [
    "Para poder hacer una estimación de los hiperparametros a utilizar en el modelo DecisionTreeClassifier utilizare GridSearchCV."
   ]
  },
  {
   "cell_type": "code",
   "execution_count": 38,
   "id": "c7b0e6ad",
   "metadata": {},
   "outputs": [
    {
     "name": "stdout",
     "output_type": "stream",
     "text": [
      "Mejores hiperparámetros encontrados:\n",
      "{'criterion': 'gini', 'max_depth': 16}\n",
      "Mejor puntuación de validación cruzada:\n",
      "0.9301471659624072\n"
     ]
    }
   ],
   "source": [
    "#-----------Modelo DecisionTreeClassifier\n",
    "\n",
    "#Definimos el modelo\n",
    "modelo_DT = DecisionTreeClassifier(random_state=42)#.fit(X_train_res, y_train_res)\n",
    "\n",
    "param_grid = {'criterion': ['gini', 'entropy', 'log_loss'], 'max_depth': [4,8,12,16]}\n",
    "\n",
    "# Realizar la búsqueda de hiperparámetros utilizando GridSearchCV\n",
    "grid_search = GridSearchCV(modelo_DT, param_grid=param_grid, cv=10, return_train_score=True)\n",
    "grid_search.fit(X_train_res, y_train_res)\n",
    "\n",
    "# Imprimir los resultados\n",
    "print(\"Mejores hiperparámetros encontrados:\")\n",
    "print(grid_search.best_params_)\n",
    "print(\"Mejor puntuación de validación cruzada:\")\n",
    "print(grid_search.best_score_)\n",
    "\n"
   ]
  },
  {
   "cell_type": "markdown",
   "id": "a771f73c",
   "metadata": {},
   "source": [
    "Luego de obtener los parametros selecciono el metodo Gini pero decido disminuir la profundidad del árbol ya que esto puede traer consigo un sobre ajuste."
   ]
  },
  {
   "cell_type": "code",
   "execution_count": 39,
   "id": "9e1937e0",
   "metadata": {},
   "outputs": [
    {
     "data": {
      "image/png": "[encoded data removed]",
      "text/plain": [
       "<Figure size 500x500 with 2 Axes>"
      ]
     },
     "metadata": {},
     "output_type": "display_data"
    },
    {
     "name": "stdout",
     "output_type": "stream",
     "text": [
      "              precision    recall  f1-score   support\n",
      "\n",
      "           0       0.98      0.89      0.93     22870\n",
      "           1       0.42      0.84      0.56      2130\n",
      "\n",
      "    accuracy                           0.89     25000\n",
      "   macro avg       0.70      0.87      0.75     25000\n",
      "weighted avg       0.94      0.89      0.90     25000\n",
      "\n"
     ]
    }
   ],
   "source": [
    "#Predicsion del modelo a los datos balanceados\n",
    "pre_y_DT = DecisionTreeClassifier(criterion='gini',max_depth=12,random_state=42).fit(X_train_res, y_train_res).predict(X_test)\n",
    "\n",
    "#Metricas y matris de confusion\n",
    "mostrar_resultados(y_test, pre_y_DT)"
   ]
  },
  {
   "cell_type": "markdown",
   "id": "fb1f9d3d",
   "metadata": {},
   "source": [
    "Basandome en el modelo DecisionTreeClassifier selexionare la misma profundidad maxima y el criterio gini, agora hare una estimación con 5 árboles de decisión"
   ]
  },
  {
   "cell_type": "code",
   "execution_count": 40,
   "id": "578c8208",
   "metadata": {},
   "outputs": [
    {
     "data": {
      "image/png": "[encoded data removed]",
      "text/plain": [
       "<Figure size 500x500 with 2 Axes>"
      ]
     },
     "metadata": {},
     "output_type": "display_data"
    },
    {
     "name": "stdout",
     "output_type": "stream",
     "text": [
      "              precision    recall  f1-score   support\n",
      "\n",
      "           0       0.98      0.92      0.95     22870\n",
      "           1       0.49      0.82      0.61      2130\n",
      "\n",
      "    accuracy                           0.91     25000\n",
      "   macro avg       0.74      0.87      0.78     25000\n",
      "weighted avg       0.94      0.91      0.92     25000\n",
      "\n"
     ]
    }
   ],
   "source": [
    "#-----------Modelo RandomForest\n",
    "\n",
    "#Definimos el modelo\n",
    "modelo_RF = RandomForestClassifier(n_estimators = 5, max_depth=12,criterion='gini',random_state=42).fit(X_train_res, y_train_res)\n",
    "\n",
    "#Predicsion del modelo a los datos balanceados\n",
    "pre_y_RF = modelo_RF.predict(X_test)\n",
    "\n",
    "#Metricas y matris de confusion\n",
    "mostrar_resultados(y_test, pre_y_RF)"
   ]
  },
  {
   "cell_type": "markdown",
   "id": "ca131168",
   "metadata": {},
   "source": [
    "Considerando las metricas F1-score podemos ver que los modelos RandomForest y DecisionTreeClassifier son bastante buenos. Ahora dependera del cliente si se le quiere dar mayor importancia a la detección de casos de diabetes o a quienes no tienen diabetes. Si consideramos que en este caso se quiere determinar los valores 0 deberiamos enfocarnos en que el valor de precisión sea mayor. En este caso El mejor modelo a elegir seria RandomForest"
   ]
  },
  {
   "cell_type": "code",
   "execution_count": null,
   "id": "d32ad4e7",
   "metadata": {},
   "outputs": [],
   "source": []
  }
 ],
 "metadata": {
  "kernelspec": {
   "display_name": "Python 3 (ipykernel)",
   "language": "python",
   "name": "python3"
  },
  "language_info": {
   "codemirror_mode": {
    "name": "ipython",
    "version": 3
   },
   "file_extension": ".py",
   "mimetype": "text/x-python",
   "name": "python",
   "nbconvert_exporter": "python",
   "pygments_lexer": "ipython3",
   "version": "3.9.7"
  }
 },
 "nbformat": 4,
 "nbformat_minor": 5
}
